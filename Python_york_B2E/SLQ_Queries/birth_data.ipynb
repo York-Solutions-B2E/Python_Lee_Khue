{
 "cells": [
  {
   "cell_type": "code",
   "execution_count": 1,
   "metadata": {},
   "outputs": [],
   "source": [
    "import csv\n",
    "import numpy as np"
   ]
  },
  {
   "cell_type": "code",
   "execution_count": 2,
   "metadata": {},
   "outputs": [],
   "source": [
    "class BirthData:\n",
    "    def __init__(self, state, abnormal_rate, avg_age, mother_bmi):\n",
    "        self.state = state\n",
    "        self.abnormal_rate = abnormal_rate\n",
    "        self.avg_age = avg_age\n",
    "        self.mother_bmi = mother_bmi\n",
    "\n",
    "    def __str__(self):\n",
    "        return f\"State: {self.state}, abnormal_rate: {self.abnormal_rate}, average age: {self.avg_age}, average BMI: {self.mother_bmi}\""
   ]
  },
  {
   "cell_type": "code",
   "execution_count": 3,
   "metadata": {},
   "outputs": [],
   "source": [
    "birth_data = []\n",
    "with open('birthdata.csv', 'r') as data_file:        #open file\n",
    "    reader = csv.reader(data_file)  #reads the file line by line\n",
    "    line_count = 0 #use to skip header row\n",
    "    for row in reader:\n",
    "        if line_count != 0:\n",
    "            new_data = BirthData(row[0], float(row[1]), float(row[2]), float(row[3]))\n",
    "            birth_data.append(new_data)\n",
    "        line_count  += 1\n",
    "\n",
    "# for i in birth_data:\n",
    "#     print(i)   "
   ]
  },
  {
   "cell_type": "markdown",
   "metadata": {},
   "source": [
    "### Find average of mother ages"
   ]
  },
  {
   "cell_type": "code",
   "execution_count": 4,
   "metadata": {},
   "outputs": [
    {
     "name": "stdout",
     "output_type": "stream",
     "text": [
      "{'AK': 28.404166666666665, 'NH': 29.995, 'RI': 30.14421052631579, 'KY': 27.725806451612904, 'WV': 27.482307692307693, 'NY': 29.868728813559326, 'DC': 29.5525, 'MT': 29.06666666666667, 'WI': 29.039062499999996, 'WA': 29.073921568627444, 'FL': 28.80076335877863, 'ME': 28.6104347826087, 'NE': 28.95866666666667, 'TN': 28.10425531914894, 'MA': 30.78906976744186, 'CO': 29.703095238095234, 'TX': 28.29306569343065, 'ID': 28.08, 'MI': 28.437536231884064, 'IL': 28.954782608695652, 'GA': 28.63125, 'MN': 29.894571428571425, 'MD': 29.714545454545462, 'PA': 28.881919191919206, 'CA': 30.070727272727275, 'OH': 28.411818181818187, 'ND': 28.88333333333333, 'NM': 28.026111111111113, 'SC': 28.333125, 'IA': 28.635238095238094, 'VA': 29.93583333333334, 'AZ': 28.080666666666673, 'NC': 28.59369047619047, 'NV': 28.73111111111111, 'OR': 29.197333333333333, 'CT': 30.401666666666664, 'SD': 28.177777777777777, 'HI': 29.8775, 'IN': 28.230555555555558, 'UT': 28.378571428571433, 'KS': 28.36, 'MO': 28.41969696969697, 'OK': 27.887222222222224, 'WY': 27.84, 'DE': 28.539999999999996, 'MS': 27.72, 'NJ': 30.54066666666667, 'AR': 27.946190476190473, 'LA': 28.050222222222217, 'VT': 30.10333333333333, 'AL': 27.97}\n",
      "[28.404166666666665, 29.995, 30.14421052631579, 27.725806451612904, 27.482307692307693, 29.868728813559326, 29.5525, 29.06666666666667, 29.039062499999996, 29.073921568627444, 28.80076335877863, 28.6104347826087, 28.95866666666667, 28.10425531914894, 30.78906976744186, 29.703095238095234, 28.29306569343065, 28.08, 28.437536231884064, 28.954782608695652, 28.63125, 29.894571428571425, 29.714545454545462, 28.881919191919206, 30.070727272727275, 28.411818181818187, 28.88333333333333, 28.026111111111113, 28.333125, 28.635238095238094, 29.93583333333334, 28.080666666666673, 28.59369047619047, 28.73111111111111, 29.197333333333333, 30.401666666666664, 28.177777777777777, 29.8775, 28.230555555555558, 28.378571428571433, 28.36, 28.41969696969697, 27.887222222222224, 27.84, 28.539999999999996, 27.72, 30.54066666666667, 27.946190476190473, 28.050222222222217, 30.10333333333333, 27.97]\n"
     ]
    }
   ],
   "source": [
    "mother_ages = {}\n",
    "for d in birth_data: \n",
    "    state = d.state\n",
    "    avg_age = d.avg_age\n",
    "    mother_ages[state] = avg_age    \n",
    "ages = [v for v in mother_ages.values()]\n",
    "\n",
    "print(mother_ages)\n",
    "print(ages)"
   ]
  },
  {
   "cell_type": "code",
   "execution_count": 5,
   "metadata": {},
   "outputs": [
    {
     "name": "stdout",
     "output_type": "stream",
     "text": [
      "28.85389642865312\n"
     ]
    }
   ],
   "source": [
    "avgAges = np.mean(ages)\n",
    "\n",
    "print(avgAges)"
   ]
  },
  {
   "cell_type": "code",
   "execution_count": 6,
   "metadata": {},
   "outputs": [
    {
     "name": "stdout",
     "output_type": "stream",
     "text": [
      "highest mother average age is: 30.78906976744186 and it's in state: MA\n"
     ]
    }
   ],
   "source": [
    "max_age = max(mother_ages.values()) # max age  \n",
    "max_age_state = max(mother_ages, key = mother_ages.get) #max age state\n",
    "\n",
    "print(f\"highest mother average age is: {max_age} and it's in state: {max_age_state}\")"
   ]
  },
  {
   "cell_type": "markdown",
   "metadata": {},
   "source": [
    "### Min age, Avg BMI, Max BMI"
   ]
  },
  {
   "cell_type": "code",
   "execution_count": 7,
   "metadata": {},
   "outputs": [
    {
     "name": "stdout",
     "output_type": "stream",
     "text": [
      "Min age is 27.482307692307693 from WV\n",
      "Average BMI of mothers is: 27.869802618125647\n",
      "Max BMI is 28.91 from MS\n"
     ]
    }
   ],
   "source": [
    "min_age = min(mother_ages.values()) # min age \n",
    "min_age_state = min(mother_ages, key = mother_ages.get) #min age state\n",
    "print(f\"Min age is {min_age} from {min_age_state}\")\n",
    "\n",
    "#dict with BMIs by state \n",
    "bmis_states = {}\n",
    "for d in birth_data: \n",
    "    state = d.state\n",
    "    mother_bmi = d.mother_bmi\n",
    "    bmis_states[state] = mother_bmi\n",
    "\n",
    "bmis = [v for v in bmis_states.values()]\n",
    "avg_bmi = np.mean(bmis)\n",
    "print (f\"Average BMI of mothers is: {avg_bmi}\")\n",
    "\n",
    "max_bmi = max(bmis_states.values()) # max age \n",
    "max_bmi_state = max(bmis_states, key = bmis_states.get) #max age state\n",
    "print(f\"Max BMI is {max_bmi} from {max_bmi_state}\")\n",
    "\n",
    "min_bmi = min(bmis_states.values()) # min age \n",
    "min_bmi_state = min(bmis_states, key = mother_ages.get) #min age state\n",
    "\n"
   ]
  },
  {
   "cell_type": "code",
   "execution_count": 8,
   "metadata": {},
   "outputs": [
    {
     "name": "stdout",
     "output_type": "stream",
     "text": [
      "Average abnormal rate per state is: 0.09656855780868338\n"
     ]
    }
   ],
   "source": [
    "#dict with abnormal rate \n",
    "rates_states = {}\n",
    "for d in birth_data: \n",
    "    state = d.state\n",
    "    abnormal_rate = d.abnormal_rate\n",
    "    rates_states[state] = abnormal_rate \n",
    "\n",
    "rates = [v for v in rates_states.values()]\n",
    "high_rate_states = []\n",
    "low_rate_states = []\n",
    "avg_rate = np.mean(rates)\n",
    "print (f\"Average abnormal rate per state is: {avg_rate}\")"
   ]
  },
  {
   "cell_type": "markdown",
   "metadata": {},
   "source": [
    "### sort by abnormal birth rate into high and low"
   ]
  },
  {
   "cell_type": "code",
   "execution_count": 9,
   "metadata": {},
   "outputs": [
    {
     "name": "stdout",
     "output_type": "stream",
     "text": [
      "there are 18 states with an above average abnormal county birth rate: ['AK', 'NH', 'RI', 'KY', 'WV', 'NY', 'DC', 'MT', 'WI', 'WA', 'FL', 'ME', 'NE', 'TN', 'MA', 'CO', 'TX', 'ID']\n",
      "there are 33 states with a below average abnormal county birth rate: ['MI', 'IL', 'GA', 'MN', 'MD', 'PA', 'CA', 'OH', 'ND', 'NM', 'SC', 'IA', 'VA', 'AZ', 'NC', 'NV', 'OR', 'CT', 'SD', 'HI', 'IN', 'UT', 'KS', 'MO', 'OK', 'WY', 'DE', 'MS', 'NJ', 'AR', 'LA', 'VT', 'AL']\n"
     ]
    }
   ],
   "source": [
    "#sort states by abnormal birth rate into high and low\n",
    "for state, rate in rates_states.items():\n",
    "    if rate > avg_rate: \n",
    "        high_rate_states.append(state)\n",
    "    else: low_rate_states.append(state)\n",
    "\n",
    "\n",
    "print(f\"there are {len(high_rate_states)} states with an above average abnormal county birth rate: {high_rate_states}\")\n",
    "print(f\"there are {len(low_rate_states)} states with a below average abnormal county birth rate: {low_rate_states}\")"
   ]
  }
 ],
 "metadata": {
  "kernelspec": {
   "display_name": "Python 3",
   "language": "python",
   "name": "python3"
  },
  "language_info": {
   "codemirror_mode": {
    "name": "ipython",
    "version": 3
   },
   "file_extension": ".py",
   "mimetype": "text/x-python",
   "name": "python",
   "nbconvert_exporter": "python",
   "pygments_lexer": "ipython3",
   "version": "3.12.0"
  }
 },
 "nbformat": 4,
 "nbformat_minor": 2
}
