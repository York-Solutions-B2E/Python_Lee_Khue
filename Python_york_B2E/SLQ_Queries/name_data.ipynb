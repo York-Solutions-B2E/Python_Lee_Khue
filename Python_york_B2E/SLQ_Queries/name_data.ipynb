{
 "cells": [
  {
   "cell_type": "code",
   "execution_count": 1,
   "metadata": {},
   "outputs": [],
   "source": [
    "import csv"
   ]
  },
  {
   "cell_type": "code",
   "execution_count": null,
   "metadata": {},
   "outputs": [],
   "source": [
    "class Name:\n",
    "    def __init__(self, year, name, number):\n",
    "        self.year = year\n",
    "        self.name = name\n",
    "        self.number = number\n",
    "    \n",
    "    def __str__(self):\n",
    "        return self.\n",
    "        "
   ]
  },
  {
   "cell_type": "code",
   "execution_count": 7,
   "metadata": {},
   "outputs": [
    {
     "name": "stdout",
     "output_type": "stream",
     "text": [
      "[['year', 'name', 'number'], ['2020', 'Noah', '2625'], ['2020', 'Liam', '2420'], ['2020', 'Olivia', '2350'], ['2020', 'Liam', '2209'], ['2020', 'Camila', '2185'], ['2020', 'Emma', '2104'], ['2020', 'Noah', '2076'], ['2020', 'Mateo', '2073'], ['2020', 'Mia', '2038'], ['2020', 'Sophia', '1995'], ['2020', 'Sebastian', '1994'], ['2020', 'Olivia', '1926'], ['2020', 'Isabella', '1865'], ['2020', 'Emma', '1837'], ['2020', 'Camila', '1744'], ['2020', 'Mateo', '1716'], ['2020', 'Julian', '1687'], ['2020', 'Isabella', '1662'], ['2020', 'Ethan', '1650'], ['2020', 'Benjamin', '1645'], ['2020', 'Elijah', '1586'], ['2020', 'Alexander', '1583'], ['2020', 'Liam', '1563'], ['2020', 'Elijah', '1544'], ['2020', 'Oliver', '1538'], ['2020', 'Gianna', '1529'], ['2020', 'Daniel', '1482'], ['2020', 'Mia', '1480'], ['2020', 'Sebastian', '1474'], ['2020', 'Sophia', '1463'], ['2020', 'Luna', '1460'], ['2020', 'Liam', '1358'], ['2020', 'Lucas', '1354'], ['2020', 'Matthew', '1339'], ['2020', 'Noah', '1317'], ['2020', 'Jacob', '1294'], ['2020', 'Oliver', '1287'], ['2020', 'Sofia', '1278'], ['2020', 'Aiden', '1271'], ['2020', 'Amelia', '1254'], ['2020', 'Emily', '1249'], ['2020', 'Noah', '1235'], ['2020', 'Ava', '1228'], ['2020', 'Ava', '1226'], ['2020', 'Santiago', '1211'], ['2020', 'Daniel', '1210'], ['2020', 'Jayden', '1200'], ['2020', 'Charlotte', '1175'], ['2020', 'Santiago', '1167'], ['2020', 'David', '1163']]\n",
      "['year', 'name', 'number']\n",
      "['2020', 'Noah', '2625']\n",
      "['2020', 'Liam', '2420']\n",
      "['2020', 'Olivia', '2350']\n",
      "['2020', 'Liam', '2209']\n",
      "['2020', 'Camila', '2185']\n",
      "['2020', 'Emma', '2104']\n",
      "['2020', 'Noah', '2076']\n",
      "['2020', 'Mateo', '2073']\n",
      "['2020', 'Mia', '2038']\n",
      "['2020', 'Sophia', '1995']\n",
      "['2020', 'Sebastian', '1994']\n",
      "['2020', 'Olivia', '1926']\n",
      "['2020', 'Isabella', '1865']\n",
      "['2020', 'Emma', '1837']\n",
      "['2020', 'Camila', '1744']\n",
      "['2020', 'Mateo', '1716']\n",
      "['2020', 'Julian', '1687']\n",
      "['2020', 'Isabella', '1662']\n",
      "['2020', 'Ethan', '1650']\n",
      "['2020', 'Benjamin', '1645']\n",
      "['2020', 'Elijah', '1586']\n",
      "['2020', 'Alexander', '1583']\n",
      "['2020', 'Liam', '1563']\n",
      "['2020', 'Elijah', '1544']\n",
      "['2020', 'Oliver', '1538']\n",
      "['2020', 'Gianna', '1529']\n",
      "['2020', 'Daniel', '1482']\n",
      "['2020', 'Mia', '1480']\n",
      "['2020', 'Sebastian', '1474']\n",
      "['2020', 'Sophia', '1463']\n",
      "['2020', 'Luna', '1460']\n",
      "['2020', 'Liam', '1358']\n",
      "['2020', 'Lucas', '1354']\n",
      "['2020', 'Matthew', '1339']\n",
      "['2020', 'Noah', '1317']\n",
      "['2020', 'Jacob', '1294']\n",
      "['2020', 'Oliver', '1287']\n",
      "['2020', 'Sofia', '1278']\n",
      "['2020', 'Aiden', '1271']\n",
      "['2020', 'Amelia', '1254']\n",
      "['2020', 'Emily', '1249']\n",
      "['2020', 'Noah', '1235']\n",
      "['2020', 'Ava', '1228']\n",
      "['2020', 'Ava', '1226']\n",
      "['2020', 'Santiago', '1211']\n",
      "['2020', 'Daniel', '1210']\n",
      "['2020', 'Jayden', '1200']\n",
      "['2020', 'Charlotte', '1175']\n",
      "['2020', 'Santiago', '1167']\n",
      "['2020', 'David', '1163']\n"
     ]
    }
   ],
   "source": [
    "names = []\n",
    "with open('name_data.csv', 'r') as name_file:\n",
    "    reader = csv.reader(name_file)\n",
    "    for i in reader:\n",
    "        names.append(i)\n",
    "print(names)\n",
    "\n",
    "for i in names:\n",
    "    print(i)"
   ]
  }
 ],
 "metadata": {
  "kernelspec": {
   "display_name": "Python 3",
   "language": "python",
   "name": "python3"
  },
  "language_info": {
   "codemirror_mode": {
    "name": "ipython",
    "version": 3
   },
   "file_extension": ".py",
   "mimetype": "text/x-python",
   "name": "python",
   "nbconvert_exporter": "python",
   "pygments_lexer": "ipython3",
   "version": "3.12.0"
  }
 },
 "nbformat": 4,
 "nbformat_minor": 2
}
