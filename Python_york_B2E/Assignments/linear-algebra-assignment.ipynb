{
 "cells": [
  {
   "cell_type": "markdown",
   "metadata": {},
   "source": [
    "\n",
    "### Programming Challenges apply what you've learned - All of this should be done in raw python, without using numpy or other libraries:\n",
    "    \n",
    "- Create a function that takes three vectors, and returns true if one of them is linearly dependent on another.\n",
    "    \n",
    "- Add a property called dim to the Vector class that contains the dimension of the vector\n",
    "    \n",
    "- Create a function that calculates the cross product of two vectors, and \n",
    "another that calculates the dot product\n",
    "    \n",
    "- Create a function that calculates the angle between two vectors.\n",
    "  \n",
    "- Create a function that returns a normalized version of a given vector\n",
    " \n",
    "- Create a function that takes a a list of vectors called spanlist and a vector called target, and \n",
    "determines if target is within the span of the vectors in spanlist\n",
    "  \n",
    "- Create a function that takes a list of vectors, and produces a minimal spanning \n",
    "set (Remove as many vectors as possible from the original list while keeping the span the same)"
   ]
  },
  {
   "cell_type": "code",
   "execution_count": 21,
   "metadata": {},
   "outputs": [],
   "source": [
    "class Vector:\n",
    "    def __init__(self, *components):\n",
    "        self.components = components\n",
    "\n",
    "    def __add__(self, other):\n",
    "        if len(self.components) != len(other.components):\n",
    "            raise ValueError(\"Vectors must be of same dimension for addition\")\n",
    "        return Vector(*[x + y for x, y in zip(self.components, other.components)])\n",
    "    \n",
    "    def __sub__(self, other):\n",
    "        if len(self.components) != len(other.components):\n",
    "            raise ValueError(\"Vectors must be of same dimension for subtraction\")\n",
    "        return Vector(*[x - y for x, y in zip(self.components, other.components)])\n",
    "    \n",
    "    def __mul__(self, scalar):\n",
    "        return Vector(*[x * scalar for x in self.components])\n",
    "    \n",
    "    def __rmul__(self, scalar):\n",
    "        return self.__mul__(scalar)\n",
    "    \n",
    "    def __repr__(self):\n",
    "        return f\"Vector({', '.join(map(str, self.components))})\"\n",
    "    \n",
    "    def linearly_dependent(self, vector1, vector2):\n",
    "        pass\n",
    "        # for i in self.components:\n",
    "        #     while in range\n",
    "        #     print(i)"
   ]
  },
  {
   "cell_type": "code",
   "execution_count": 29,
   "metadata": {},
   "outputs": [
    {
     "name": "stdout",
     "output_type": "stream",
     "text": [
      "[2, 3, 4]\n",
      "None\n"
     ]
    }
   ],
   "source": [
    "# Create a function that takes three vectors, and returns true if one of them is linearly dependent on another.\n",
    "vectorA = Vector([2,3,4])\n",
    "vectorB = Vector([5,7,9])\n",
    "vectorC = Vector([12,20,30])\n",
    "\n",
    "# print(vectorA.linearly_dependent(vectorA, vectorB))\n"
   ]
  },
  {
   "cell_type": "code",
   "execution_count": 23,
   "metadata": {},
   "outputs": [],
   "source": [
    "# Add a property called dim to the Vector class that contains the dimension of the vector\n"
   ]
  },
  {
   "cell_type": "code",
   "execution_count": 24,
   "metadata": {},
   "outputs": [],
   "source": [
    "# Create a function that calculates the cross product of two vectors, and \n",
    "# another that calculates the dot product"
   ]
  },
  {
   "cell_type": "code",
   "execution_count": 25,
   "metadata": {},
   "outputs": [],
   "source": [
    "# Create a function that calculates the angle between two vectors.\n"
   ]
  },
  {
   "cell_type": "code",
   "execution_count": 26,
   "metadata": {},
   "outputs": [],
   "source": [
    "# Create a function that returns a normalized version of a given vector\n"
   ]
  },
  {
   "cell_type": "code",
   "execution_count": 27,
   "metadata": {},
   "outputs": [],
   "source": [
    "# Create a function that takes a a list of vectors called spanlist and a vector called target, and \n",
    "# determines if target is within the span of the vectors in spanlist"
   ]
  },
  {
   "cell_type": "code",
   "execution_count": 28,
   "metadata": {},
   "outputs": [],
   "source": [
    "# Create a function that takes a list of vectors, and produces a minimal spanning \n",
    "# set (Remove as many vectors as possible from the original list while keeping the span the same)"
   ]
  }
 ],
 "metadata": {
  "kernelspec": {
   "display_name": "Python 3",
   "language": "python",
   "name": "python3"
  },
  "language_info": {
   "codemirror_mode": {
    "name": "ipython",
    "version": 3
   },
   "file_extension": ".py",
   "mimetype": "text/x-python",
   "name": "python",
   "nbconvert_exporter": "python",
   "pygments_lexer": "ipython3",
   "version": "3.12.0"
  }
 },
 "nbformat": 4,
 "nbformat_minor": 2
}
