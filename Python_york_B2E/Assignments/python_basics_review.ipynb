{
 "cells": [
  {
   "cell_type": "markdown",
   "metadata": {},
   "source": [
    "## Questions:\n",
    "- Task 1:  Write a program demonstrating all the uses of * in its different contexts.  After each example, add comments explaining how the asterisk is used in that context.\n",
    "\n",
    "- Task 2: Create a script that includes examples of different collections: lists, sets, tuples, and dictionaries. For each type of collection:\n",
    "Demonstrate their creation and basic operations (addition, deletion, modification).\n",
    "Show at least two specific methods unique to each collection type.\n",
    "Show the different methods of iterating over the collection\n",
    "explain how functions like list, enumerate, zip, and others interact with the data collection.\n",
    "   Include comments explaining the characteristics and ideal use-cases for each collection type.\n",
    "\n",
    "- Task 3: List and descirbe different data types in Python.  Create a separate python file with several functions and classes, and demonstrate how to import these both entirely and partially. What is the data type of the common libraries we import?  What about when we use from?\n",
    "\n",
    "- Task 4: Write functions showcasing positional arguments, keyword arguments, default argument values, and variable length arguments.\n",
    "        How do positional arguments and keyword arguments interact with each other?  Are there ways to provide a positional argument as a keyword argument, or vice-versa?\n",
    "\n",
    "- Task 5: Create a script that demonstrates the use of try-except-else-finally blocks.  Intentionally raise an exception to be caught\n",
    "        What does exception handling allow you to do?  How can it be used best, and how can it be misused?\n",
    "        \n",
    "- Task 6: Go over the different functions you called in your project, and record what DATA TYPE each one returns"
   ]
  },
  {
   "cell_type": "markdown",
   "metadata": {},
   "source": []
  },
  {
   "cell_type": "markdown",
   "metadata": {},
   "source": [
    "## uses of asterisk"
   ]
  },
  {
   "cell_type": "code",
   "execution_count": 60,
   "metadata": {},
   "outputs": [
    {
     "name": "stdout",
     "output_type": "stream",
     "text": [
      "product: 15\n",
      "exponent: 1000\n",
      "a: 1\n",
      "b: 3\n",
      "c: [5, 7, 9]\n",
      "d: 11\n",
      "h: 1\n",
      "i: 3\n",
      "k: [5, 7, 9, 11]\n",
      "m: [1, 3, 5, 7, 9]\n",
      "n: 11\n",
      "45 [25, 'ice cream', 'donut', 'pizza']\n",
      "['p', 'i', 'z', 'z'] a\n",
      "Name: Khue Lee\n",
      "Age: math\n",
      "City: B\n",
      "name: Khue Lee\n",
      "subject: History\n",
      "grade: B-\n"
     ]
    },
    {
     "data": {
      "text/plain": [
       "28"
      ]
     },
     "execution_count": 60,
     "metadata": {},
     "output_type": "execute_result"
    }
   ],
   "source": [
    "product = 5 * 3 # multiply two number\n",
    "print(f'product: {product}')\n",
    "\n",
    "exponent = 10 ** 3 # number times itself x amount of time\n",
    "print(f'exponent: {exponent}')\n",
    "\n",
    "tuple1 = (1, 3, 5, 7, 9, 11)\n",
    "a, b, *c, d = tuple1 # unpacking unassigned items to a list, and assign to c, does the same for list\n",
    "print('a:', a)\n",
    "print('b:', b)\n",
    "print('c:', c)\n",
    "print('d:', d)\n",
    "\n",
    "h, i, *k = tuple1 # unpacking unassigned items to a list, and assign to k\n",
    "print('h:', h)\n",
    "print('i:', i)\n",
    "print('k:', k)\n",
    "\n",
    "*m, n = tuple1 # unpacking unassigned items to a list, and assign to m\n",
    "print('m:', m)\n",
    "print('n:', n)\n",
    "\n",
    "tuple2 = (45, 25, 'ice cream', 'donut', 'pizza')\n",
    "first, *rest = tuple2 # unpacking first element/item to first, then rest to rest\n",
    "print(first, rest)\n",
    "\n",
    "string = 'pizza'\n",
    "*first, last = string # unpacking every element/item except last to first, then last to last\n",
    "print(first, last)\n",
    "\n",
    "def grade_info(student, *, subject, grade): # parameters after * must be in keywords\n",
    "    print(f\"Name: {student}\")\n",
    "    print(f\"Age: {subject}\")\n",
    "    print(f\"City: {grade}\")\n",
    "\n",
    "grade_info(\"Khue Lee\", subject='math', grade='B')\n",
    "\n",
    "\n",
    "def student_data(**data): # accept arbritrary keyword - argument\n",
    "    for key, item in data.items():\n",
    "        print(f'{key}: {item}')\n",
    "\n",
    "student_data(name='Khue Lee', subject='History', grade='B-')\n",
    "\n",
    "def sum(*numbers): # accept arbritrary positional - argument\n",
    "    total = 0\n",
    "    for n in numbers:\n",
    "        total += n\n",
    "    return total\n",
    "\n",
    "sum(1,2,3,4,5,6,7)"
   ]
  },
  {
   "cell_type": "code",
   "execution_count": 58,
   "metadata": {},
   "outputs": [],
   "source": [
    "# Task 2: Create a script that includes examples of different collections: lists, sets, tuples, and dictionaries. For each type of collection:\n",
    "# Demonstrate their creation and basic operations (addition, deletion, modification).\n",
    "# Show at least two specific methods unique to each collection type.\n",
    "# Show the different methods of iterating over the collection\n",
    "# explain how functions like list, enumerate, zip, and others interact with the data collection.\n",
    "#    Include comments explaining the characteristics and ideal use-cases for each collection type."
   ]
  },
  {
   "cell_type": "markdown",
   "metadata": {},
   "source": [
    "## lists"
   ]
  },
  {
   "cell_type": "code",
   "execution_count": 65,
   "metadata": {},
   "outputs": [
    {
     "name": "stdout",
     "output_type": "stream",
     "text": [
      "<class 'list'>\n",
      "['panda', 'monkey', 'tiger', 'bear', 'lion', 'giraffe', 'cheetah', 'peguin', 'wolf']\n",
      "['panda', 'monkey', 'tiger', 'bear', 'lion', 'giraffe', 'cheetah', 'peguin', 'wolf', 'fox']\n",
      "['panda', 'tiger', 'bear', 'lion', 'giraffe', 'cheetah', 'peguin', 'wolf', 'fox']\n",
      "['panda', 'tiger', 'bear', 'lion', 'giraffe']\n",
      "panda\n",
      "tiger\n",
      "bear\n",
      "lion\n",
      "giraffe\n",
      "cheetah\n",
      "peguin\n",
      "wolf\n",
      "fox\n",
      "panda\n",
      "tiger\n",
      "bear\n",
      "lion\n",
      "giraffe\n",
      "cheetah\n",
      "peguin\n",
      "wolf\n",
      "fox\n",
      "panda\n",
      "tiger\n",
      "bear\n",
      "lion\n",
      "giraffe\n",
      "cheetah\n",
      "peguin\n",
      "wolf\n",
      "fox\n"
     ]
    },
    {
     "data": {
      "text/plain": [
       "[None, None, None, None, None, None, None, None, None]"
      ]
     },
     "execution_count": 65,
     "metadata": {},
     "output_type": "execute_result"
    }
   ],
   "source": [
    "animals = list(('panda', 'monkey', 'tiger', 'bear', 'lion')) # make a list of animals\n",
    "print(type(animals))\n",
    "more_animals = ['giraffe', 'cheetah', 'peguin', 'wolf']\n",
    "\n",
    "all_animals = animals + more_animals # combine two lists\n",
    "print(all_animals)\n",
    "all_animals.append('fox') # add an animal to the list\n",
    "print(all_animals)\n",
    "all_animals.remove('monkey')\n",
    "print(all_animals) # remove monkey from the list\n",
    "print(all_animals[:5]) # print first throught fith animal\n",
    "\n",
    "for animal in all_animals: # iterate over each animal and print it\n",
    "    print(animal)\n",
    "\n",
    "for i in range(len(all_animals)): # iterate using index\n",
    "    print(all_animals[i])\n",
    "\n",
    "[print(x) for x in all_animals] # iterate using list comprehension"
   ]
  },
  {
   "cell_type": "markdown",
   "metadata": {},
   "source": [
    "## Sets"
   ]
  },
  {
   "cell_type": "code",
   "execution_count": 79,
   "metadata": {},
   "outputs": [
    {
     "name": "stdout",
     "output_type": "stream",
     "text": [
      "<class 'set'>\n",
      "{'watermelon', 'strawberry', 'banana', 'orange', 'pear'}\n",
      "{'cherry', 'pinneaple', 'grape', 'kiwi'}\n",
      "{'watermelon', 'cherry', 'strawberry', 'banana', 'pinneaple', 'grape', 'orange', 'kiwi', 'pear'}\n",
      "watermelon\n",
      "cherry\n",
      "strawberry\n",
      "banana\n",
      "pinneaple\n",
      "grape\n",
      "orange\n",
      "kiwi\n",
      "pear\n"
     ]
    }
   ],
   "source": [
    "fruits = set(('apple', 'banana', 'orange', 'pear', 'strawberry')) # make a set\n",
    "print(type(fruits))\n",
    "\n",
    "fruits.add('watermelon') # add watermelon to set\n",
    "fruits.discard('apple') # remove apple from set\n",
    "print(fruits)\n",
    "\n",
    "more_fruits = {'kiwi', 'cherry', 'grape', 'pinneaple'}\n",
    "print(more_fruits)\n",
    "all_fruits  = fruits.union(more_fruits) # combine the sets\n",
    "print(all_fruits)\n",
    "\n",
    "for element in all_fruits: # iterate over the set\n",
    "    print(element)"
   ]
  },
  {
   "cell_type": "markdown",
   "metadata": {},
   "source": [
    "## Tuples"
   ]
  },
  {
   "cell_type": "code",
   "execution_count": 20,
   "metadata": {},
   "outputs": [
    {
     "name": "stdout",
     "output_type": "stream",
     "text": [
      "<class 'tuple'>\n",
      "('math', 'science', 'history', 'writing', 'fitness', 'spanish', 'algebra')\n",
      "('math', 'science', 'history', 'writing', 'math', 'science', 'history', 'writing')\n",
      "('science', 'history', 'writing', 'geometry')\n",
      "fun: science\n",
      "boring: ['history', 'writing', 'geometry']\n",
      "science: A\n",
      "history: A\n",
      "writing: B-\n",
      "geometry: C\n",
      "A\n",
      "A\n",
      "B-\n",
      "C\n",
      "science\n",
      "history\n",
      "writing\n",
      "geometry\n"
     ]
    },
    {
     "data": {
      "text/plain": [
       "2"
      ]
     },
     "execution_count": 20,
     "metadata": {},
     "output_type": "execute_result"
    }
   ],
   "source": [
    "tuple1 = tuple(('math', 'science', 'history', 'writing')) # make a tuple tuple method\n",
    "print(type(tuple1))\n",
    "\n",
    "tuple2 = ('fitness', 'spanish', 'algebra') # make tuples with ()\n",
    "\n",
    "tuple3 = tuple1 + tuple2 # combine two tuples\n",
    "print(tuple3)\n",
    "tuple1_x2 = tuple1 * 2\n",
    "print(tuple1_x2) # double the tuples\n",
    "\n",
    "tuple1_list = list(tuple1) # convert tuple to list in order to update\n",
    "tuple1_list.append('geometry') # add new element to tuple\n",
    "tuple1_list.remove('math') # remove element\n",
    "tuple1 = tuple(tuple1_list) # make list into tuple again\n",
    "print(tuple1)\n",
    "\n",
    "fun, *boring = tuple1 # unpacking, assign values to variables\n",
    "print(f'fun: {fun}')\n",
    "print(f'boring: {boring}')\n",
    "grades = ('A', 'A', 'B-', 'C')\n",
    "science, history, writing, geometry = grades # unpacking, assign values to variables\n",
    "print(f'science: {science}')\n",
    "print(f'history: {history}')\n",
    "print(f'writing: {writing}')\n",
    "print(f'geometry: {geometry}')\n",
    "\n",
    "for g in grades: # iterating using element\n",
    "    print(g)\n",
    "\n",
    "for t in range(len(tuple1)): # iterate using index\n",
    "    print(tuple1[t])\n",
    "\n",
    "grades.count('A') # count the occurrences "
   ]
  },
  {
   "cell_type": "markdown",
   "metadata": {},
   "source": [
    "## Dictionaries"
   ]
  },
  {
   "cell_type": "code",
   "execution_count": 42,
   "metadata": {},
   "outputs": [
    {
     "name": "stdout",
     "output_type": "stream",
     "text": [
      "{'student': 'Khue Lee', 'fav_subject': 'math', 'hobbies': ['video games', 'workout', 'movies', 'fishing', 'family and friends']}\n",
      "<class 'dict'>\n",
      "{'student': 'Khue Lee', 'fav_subject': 'science', 'hobbies': ['video games', 'workout', 'movies', 'fishing', 'family and friends']}\n",
      "{'student': 'Khue Lee', 'fav_subject': 'science', 'hobbies': ['video games', 'workout', 'movies', 'fishing', 'family and friends'], 'grade_level': 'senior'}\n",
      "{'student': 'Khue Lee', 'fav_subject': 'science', 'hobbies': ['video games', 'workout', 'movies', 'fishing', 'family and friends']}\n",
      "{'student': 'Khue Lee', 'fav_subject': 'science', 'hobbies': ['video games', 'workout', 'movies', 'fishing', 'family and friends'], 'grade_level': 'senior'}\n",
      "{'student': 'Khue Lee', 'fav_subject': 'science', 'hobbies': ['video games', 'workout', 'movies', 'fishing', 'family and friends']}\n",
      "{'student1': {'student': 'Khue Lee', 'fav_subject': 'science', 'hobbies': ['video games', 'workout', 'movies', 'fishing', 'family and friends']}, 'student2': {'student': 'John', 'fav_subject': 'writing', 'hobbies': ['camping', 'snowboarding', 'eating']}}\n",
      "['video games', 'workout', 'movies', 'fishing', 'family and friends', 'snowboarding']\n",
      "{'student': 'John', 'fav_subject': 'writing', 'hobbies': ['camping', 'snowboarding', 'eating']}\n"
     ]
    }
   ],
   "source": [
    "student_info = dict(student='Khue Lee', fav_subject='math', hobbies=['video games', 'workout', 'movies', 'fishing', 'family and friends']) # make a dictionary\n",
    "print(student_info)\n",
    "print(type(student_info))\n",
    "\n",
    "student_info.update({'fav_subject': 'science'}) # change values in fav_subject to science\n",
    "print(student_info)\n",
    "\n",
    "student_info['grade_level'] = 'senior' # add new key with value\n",
    "print(student_info)\n",
    "student_info.pop('grade_level') # remove key and corresponding value\n",
    "print(student_info)\n",
    "student_info.update({'grade_level': 'senior'}) # add grade_level back\n",
    "print(student_info)\n",
    "del student_info['grade_level'] # delete grade_level\n",
    "print(student_info)\n",
    "\n",
    "student2 = {'student': 'John', 'fav_subject': 'writing', 'hobbies': ['camping', 'snowboarding', 'eating']} \n",
    "nested_dict = {'student1': student_info, 'student2': student2} # nested the two dicts\n",
    "print(nested_dict)\n",
    "nested_dict['student1']['hobbies'].append('snowboarding') # add item to hobbies in student1 dict\n",
    "print(nested_dict['student1']['hobbies']) # accessing hobbies in student1 dict\n",
    "print(nested_dict['student2']) # accessing hobbies in student2 dict\n",
    "\n",
    "# nested dictionaries\n",
    "\n",
    "\n",
    "\n"
   ]
  },
  {
   "cell_type": "code",
   "execution_count": 43,
   "metadata": {},
   "outputs": [
    {
     "ename": "TypeError",
     "evalue": "enumerate() missing required argument 'iterable'",
     "output_type": "error",
     "traceback": [
      "\u001b[0;31m---------------------------------------------------------------------------\u001b[0m",
      "\u001b[0;31mTypeError\u001b[0m                                 Traceback (most recent call last)",
      "\u001b[1;32m/Users/yorkmacbook021/Desktop/Python_Lee_Khue/Python_york_B2E/Assignments/python_basics_review.ipynb Cell 14\u001b[0m line \u001b[0;36m2\n\u001b[1;32m      <a href='vscode-notebook-cell:/Users/yorkmacbook021/Desktop/Python_Lee_Khue/Python_york_B2E/Assignments/python_basics_review.ipynb#X20sZmlsZQ%3D%3D?line=0'>1</a>\u001b[0m \u001b[39mlist\u001b[39m()\n\u001b[0;32m----> <a href='vscode-notebook-cell:/Users/yorkmacbook021/Desktop/Python_Lee_Khue/Python_york_B2E/Assignments/python_basics_review.ipynb#X20sZmlsZQ%3D%3D?line=1'>2</a>\u001b[0m \u001b[39menumerate\u001b[39;49m()\n\u001b[1;32m      <a href='vscode-notebook-cell:/Users/yorkmacbook021/Desktop/Python_Lee_Khue/Python_york_B2E/Assignments/python_basics_review.ipynb#X20sZmlsZQ%3D%3D?line=2'>3</a>\u001b[0m \u001b[39mzip\u001b[39m()\n\u001b[1;32m      <a href='vscode-notebook-cell:/Users/yorkmacbook021/Desktop/Python_Lee_Khue/Python_york_B2E/Assignments/python_basics_review.ipynb#X20sZmlsZQ%3D%3D?line=3'>4</a>\u001b[0m \u001b[39mset\u001b[39m()\n",
      "\u001b[0;31mTypeError\u001b[0m: enumerate() missing required argument 'iterable'"
     ]
    }
   ],
   "source": [
    "list()\n",
    "enumerate()\n",
    "zip()\n",
    "set()\n",
    "dict()"
   ]
  }
 ],
 "metadata": {
  "kernelspec": {
   "display_name": "Python 3",
   "language": "python",
   "name": "python3"
  },
  "language_info": {
   "codemirror_mode": {
    "name": "ipython",
    "version": 3
   },
   "file_extension": ".py",
   "mimetype": "text/x-python",
   "name": "python",
   "nbconvert_exporter": "python",
   "pygments_lexer": "ipython3",
   "version": "3.12.0"
  }
 },
 "nbformat": 4,
 "nbformat_minor": 2
}
