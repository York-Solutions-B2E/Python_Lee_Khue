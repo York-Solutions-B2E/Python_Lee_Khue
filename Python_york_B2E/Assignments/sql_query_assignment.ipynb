{
 "cells": [
  {
   "cell_type": "code",
   "execution_count": 2,
   "metadata": {},
   "outputs": [],
   "source": [
    "import csv\n",
    "import numpy as np"
   ]
  },
  {
   "cell_type": "code",
   "execution_count": 3,
   "metadata": {},
   "outputs": [],
   "source": [
    "# List Comprehension\n",
    "# Get all integers out of a list of numbers, e.x. [1,2.5,100.3,3.0,-1.5,-5]\n",
    "# Find all numbers from 1-1000 that have a 3 in them.\n",
    "# Count the number of alphabetic characters in a string (a-z, lower case or upper case)\n",
    "# [Challenge - requires nesting] - Find all numbers between 1-1000 that are not divisble by any number between 2 and 9.\n",
    "\n",
    "# SQL/Big Query (Using the noaa historic severe storms dataset).\n",
    "# Find out what state has had the most historic severe storms between 1980 and 1995\n",
    "# Find the average crop damage for storms in 2011\n",
    "# What was the total number of direct and indirect deaths for storms in 2000? What about the total number of direct or indirect injuries?\n",
    "\n",
    "# Big Query / Python\n",
    "# Using the same dataset as above, download a CSV to parse in python of the 1000 worst storms in 2022 by magnitude when the magnitude type is \"MG\" or \"EG\" and the magnitude was at least 80\n",
    "# What percent of event types were thunderstorms vs high winds?\n",
    "# What state had the least number of these types of storms?  What state had the most?\n",
    "# What was the mean, median, and standard deviation of the magnitude?"
   ]
  },
  {
   "cell_type": "markdown",
   "metadata": {},
   "source": [
    "## List Comprehension"
   ]
  },
  {
   "cell_type": "code",
   "execution_count": 4,
   "metadata": {},
   "outputs": [
    {
     "name": "stdout",
     "output_type": "stream",
     "text": [
      "[1, 2, 3, 4, 6, 3.0, 8, 10, 12]\n"
     ]
    }
   ],
   "source": [
    "# Get all integers out of a list of numbers, e.x. [1,2.5,100.3,3.0,-1.5,-5]\n",
    "listA = [1, 2, 3, 4, 5.2, 6, 3.0, 8, 9.12, 10, 11.50, 12]\n",
    "\n",
    "newListA = [n for n in listA if n == int(n)]\n",
    "\n",
    "print(newListA)"
   ]
  },
  {
   "cell_type": "code",
   "execution_count": 5,
   "metadata": {},
   "outputs": [
    {
     "name": "stdout",
     "output_type": "stream",
     "text": [
      "[3, 13, 23, 30, 31, 32, 33, 34, 35, 36, 37, 38, 39, 43, 53, 63, 73, 83, 93, 103, 113, 123, 130, 131, 132, 133, 134, 135, 136, 137, 138, 139, 143, 153, 163, 173, 183, 193, 203, 213, 223, 230, 231, 232, 233, 234, 235, 236, 237, 238, 239, 243, 253, 263, 273, 283, 293, 300, 301, 302, 303, 304, 305, 306, 307, 308, 309, 310, 311, 312, 313, 314, 315, 316, 317, 318, 319, 320, 321, 322, 323, 324, 325, 326, 327, 328, 329, 330, 331, 332, 333, 334, 335, 336, 337, 338, 339, 340, 341, 342, 343, 344, 345, 346, 347, 348, 349, 350, 351, 352, 353, 354, 355, 356, 357, 358, 359, 360, 361, 362, 363, 364, 365, 366, 367, 368, 369, 370, 371, 372, 373, 374, 375, 376, 377, 378, 379, 380, 381, 382, 383, 384, 385, 386, 387, 388, 389, 390, 391, 392, 393, 394, 395, 396, 397, 398, 399, 403, 413, 423, 430, 431, 432, 433, 434, 435, 436, 437, 438, 439, 443, 453, 463, 473, 483, 493, 503, 513, 523, 530, 531, 532, 533, 534, 535, 536, 537, 538, 539, 543, 553, 563, 573, 583, 593, 603, 613, 623, 630, 631, 632, 633, 634, 635, 636, 637, 638, 639, 643, 653, 663, 673, 683, 693, 703, 713, 723, 730, 731, 732, 733, 734, 735, 736, 737, 738, 739, 743, 753, 763, 773, 783, 793, 803, 813, 823, 830, 831, 832, 833, 834, 835, 836, 837, 838, 839, 843, 853, 863, 873, 883, 893, 903, 913, 923, 930, 931, 932, 933, 934, 935, 936, 937, 938, 939, 943, 953, 963, 973, 983, 993]\n"
     ]
    }
   ],
   "source": [
    "# Find all numbers from 1-1000 that have a 3 in them.\n",
    "listOf3 = [x for x in range(0,1001) if '3' in str(x)] #cannot use \"in\" operator to check integer\n",
    "\n",
    "print(listOf3)\n"
   ]
  },
  {
   "cell_type": "code",
   "execution_count": 6,
   "metadata": {},
   "outputs": [
    {
     "name": "stdout",
     "output_type": "stream",
     "text": [
      "54\n"
     ]
    }
   ],
   "source": [
    "# Count the number of alphabetic characters in a string (a-z, lower case or upper case)\n",
    "randomString = \"Please count the number of alphabetic characters in this string\"\n",
    "\n",
    "total = sum([1 for n in randomString if n.isalpha()])\n",
    "print(total)\n",
    "\n"
   ]
  },
  {
   "cell_type": "code",
   "execution_count": 7,
   "metadata": {},
   "outputs": [
    {
     "name": "stdout",
     "output_type": "stream",
     "text": [
      "[1, 11, 13, 17, 19, 23, 29, 31, 37, 41, 43, 47, 53, 59, 61, 67, 71, 73, 79, 83, 89, 97, 101, 103, 107, 109, 113, 121, 127, 131, 137, 139, 143, 149, 151, 157, 163, 167, 169, 173, 179, 181, 187, 191, 193, 197, 199, 209, 211, 221, 223, 227, 229, 233, 239, 241, 247, 251, 253, 257, 263, 269, 271, 277, 281, 283, 289, 293, 299, 307, 311, 313, 317, 319, 323, 331, 337, 341, 347, 349, 353, 359, 361, 367, 373, 377, 379, 383, 389, 391, 397, 401, 403, 407, 409, 419, 421, 431, 433, 437, 439, 443, 449, 451, 457, 461, 463, 467, 473, 479, 481, 487, 491, 493, 499, 503, 509, 517, 521, 523, 527, 529, 533, 541, 547, 551, 557, 559, 563, 569, 571, 577, 583, 587, 589, 593, 599, 601, 607, 611, 613, 617, 619, 629, 631, 641, 643, 647, 649, 653, 659, 661, 667, 671, 673, 677, 683, 689, 691, 697, 701, 703, 709, 713, 719, 727, 731, 733, 737, 739, 743, 751, 757, 761, 767, 769, 773, 779, 781, 787, 793, 797, 799, 803, 809, 811, 817, 821, 823, 827, 829, 839, 841, 851, 853, 857, 859, 863, 869, 871, 877, 881, 883, 887, 893, 899, 901, 907, 911, 913, 919, 923, 929, 937, 941, 943, 947, 949, 953, 961, 967, 971, 977, 979, 983, 989, 991, 997]\n"
     ]
    }
   ],
   "source": [
    "# [Challenge - requires nesting] - Find all numbers between 1-1000 that are not divisble by any number between 2 and 9.\n",
    "resultList = [x for x in range(0,1001) if all([x % n != 0 for n in range(2,10)])]\n",
    "\n",
    "print(resultList)"
   ]
  },
  {
   "cell_type": "markdown",
   "metadata": {},
   "source": [
    "## SQL/Big Query (Using the noaa historic severe storms dataset)"
   ]
  },
  {
   "cell_type": "code",
   "execution_count": 8,
   "metadata": {},
   "outputs": [],
   "source": [
    "# Find out what state has had the most historic severe storms between 1980 and 1995\n",
    "\n",
    "# SELECT state, COUNT(*) AS state_count\n",
    "# FROM `bigquery-public-data.noaa_historic_severe_storms.storms_19*` \n",
    "# WHERE _TABLE_SUFFIX BETWEEN '80' AND '95'\n",
    "# GROUP BY state\n",
    "# ORDER BY state_count DESC;\n",
    "\n",
    "# OR\n",
    "\n",
    "# SELECT state, COUNT(*) AS state_count\n",
    "# FROM (\n",
    "#   SELECT state FROM `bigquery-public-data.noaa_historic_severe_storms.storms_1980`\n",
    "#   UNION ALL\n",
    "#   SELECT state FROM `bigquery-public-data.noaa_historic_severe_storms.storms_1981`\n",
    "#   UNION ALL\n",
    "#   SELECT state FROM `bigquery-public-data.noaa_historic_severe_storms.storms_1982`\n",
    "# ) \n",
    "# GROUP BY state\n",
    "# ORDER BY state_count DESC;"
   ]
  },
  {
   "cell_type": "code",
   "execution_count": 9,
   "metadata": {},
   "outputs": [],
   "source": [
    "# Find the average crop damage for storms in 2011"
   ]
  },
  {
   "cell_type": "markdown",
   "metadata": {},
   "source": [
    "#### SELECT AVG(damage_crops) as avg_crop_damage FROM table_2011;\n",
    "#### Answer: 40133.495685522408"
   ]
  },
  {
   "cell_type": "code",
   "execution_count": 10,
   "metadata": {},
   "outputs": [],
   "source": [
    "# What was the total number of direct and indirect deaths for storms in 2000? What about the total number of direct or indirect injuries?"
   ]
  },
  {
   "cell_type": "markdown",
   "metadata": {},
   "source": [
    "#### SELECT SUM(deaths_direct + deaths_indirect) as total_deaths FROM table_2000\n",
    "#### Answer: 521\n",
    "\n",
    "#### SLECT SUM(injuries_direct + injuries_indirect) as total_injuries FROM table_2000\n",
    "#### Answer: 3658"
   ]
  },
  {
   "cell_type": "markdown",
   "metadata": {},
   "source": [
    "## Big Query/Python"
   ]
  },
  {
   "cell_type": "code",
   "execution_count": 11,
   "metadata": {},
   "outputs": [],
   "source": [
    "# Using the same dataset as above, download a CSV to parse in python of the 1000 worst storms in 2022 by magnitude when the magnitude type is \"MG\" or \"EG\" and the magnitude was at least 80\n",
    "class SevereStorm:\n",
    "    def __init__(self, state, type, magnitude): \n",
    "        self.state = state\n",
    "        self.type = type\n",
    "        self.magnitude = magnitude\n",
    "    \n",
    "    def __str__(self):\n",
    "        return f\"{self.state} {self.type} {str(self. magnitude)}\""
   ]
  },
  {
   "cell_type": "code",
   "execution_count": 20,
   "metadata": {},
   "outputs": [
    {
     "name": "stdout",
     "output_type": "stream",
     "text": [
      "67.0\n",
      "33.0\n"
     ]
    }
   ],
   "source": [
    "# What percent of event types were thunderstorms vs high winds?\n",
    "storms = []\n",
    "with open('severe_storms_2022.csv', 'r') as csv_file:\n",
    "    reader = csv.reader(csv_file)\n",
    "    line_count = 0\n",
    "    for row in reader:\n",
    "        if line_count != 0:\n",
    "            rowValues = SevereStorm(row[0], row[1], float(row[2]))\n",
    "            storms.append(rowValues)\n",
    "        line_count += 1\n",
    "\n",
    "# for i in storms:\n",
    "#     print(i)\n",
    "\n",
    "# print(len(storms))\n",
    "\n",
    "thunderstorm = [x.type for x in storms if x.type == \"thunderstorm wind\"]\n",
    "highwind = [x.type for x in storms if x.type == \"high wind\"]\n",
    "# for i in thunderstorm:\n",
    "#     print(i)\n",
    "\n",
    "totalThunder = np.round((len(thunderstorm) / len(storms)) * 100)\n",
    "print(totalThunder)\n",
    "\n",
    "totalHighwind = np.round((len(highwind) / len(storms) * 100))\n",
    "print(totalHighwind)"
   ]
  },
  {
   "cell_type": "code",
   "execution_count": 13,
   "metadata": {},
   "outputs": [
    {
     "name": "stdout",
     "output_type": "stream",
     "text": [
      "stateThunderCount dict: {'So': 32, 'No': 9, 'Oh': 7, 'Ka': 23, 'De': 3, 'Mi': 17, 'Pe': 4, 'Ne': 14, 'Te': 9, 'We': 2, 'In': 3, 'Ok': 9, 'Wy': 3, 'Al': 5, 'Ar': 1, 'Wi': 2, 'Vi': 3, 'Il': 1, 'Lo': 2, 'Ma': 2, 'Fl': 1}\n",
      "stateHighwindCount dict: {'Ha': 1, 'Ca': 32, 'Ut': 4, 'Wy': 8, 'Ne': 15, 'Co': 5, 'Wa': 2, 'Or': 4, 'Id': 1, 'Al': 2, 'Te': 1}\n"
     ]
    }
   ],
   "source": [
    "# What state had the least number of these types of storms? What state had the most?\n",
    "\n",
    "stateThunderCount = {}\n",
    "stateHighwindCount = {}\n",
    "for i in storms:\n",
    "    state = i.state\n",
    "    if i.type == \"thunderstorm wind\":\n",
    "        stateThunderCount[state] = stateThunderCount.get(state, 0) + 1\n",
    "    elif i.type == \"high wind\":\n",
    "        stateHighwindCount[state] = stateHighwindCount.get(state, 0) + 1\n",
    "\n",
    "\n",
    "print(\"stateThunderCount dict:\", stateThunderCount)\n",
    "print(\"stateHighwindCount dict:\", stateHighwindCount)"
   ]
  },
  {
   "cell_type": "code",
   "execution_count": 14,
   "metadata": {},
   "outputs": [
    {
     "name": "stdout",
     "output_type": "stream",
     "text": [
      "these state have the least thunderstorms: ['Ar', 'Il', 'Fl'] with a value of 1\n",
      "these state have the most thunderstorms: ['So'] with a value of 32\n"
     ]
    }
   ],
   "source": [
    "# state with highest and lowest thunderstorms:\n",
    "stateThunderLowest = [key for key, value in stateThunderCount.items() if value == min(stateThunderCount.values())]\n",
    "print(f\"these state have the least thunderstorms: {stateThunderLowest} with a value of {min(stateThunderCount.values())}\")\n",
    "\n",
    "\n",
    "stateThunderHighest = [key for key, value in stateThunderCount.items() if value == max(stateThunderCount.values())]\n",
    "print(f\"these state have the most thunderstorms: {stateThunderHighest} with a value of {max(stateThunderCount.values())}\")"
   ]
  },
  {
   "cell_type": "code",
   "execution_count": 15,
   "metadata": {},
   "outputs": [
    {
     "name": "stdout",
     "output_type": "stream",
     "text": [
      "these state have the least thunderstorms: ['Ha', 'Id', 'Te'] with a value of 1\n",
      "these state have the least thunderstorms: ['Ca'] with a value of 32\n"
     ]
    }
   ],
   "source": [
    "# state with the highest and lowest high wind:\n",
    "stateHighwindLowest = [key for key, value in stateHighwindCount.items() if value == min(stateHighwindCount.values())]\n",
    "print(f\"these state have the least thunderstorms: {stateHighwindLowest} with a value of {min(stateHighwindCount.values())}\")\n",
    "\n",
    "stateHighwindHighest = [key for key, value in stateHighwindCount.items() if value == max(stateHighwindCount.values())]\n",
    "print(f\"these state have the least thunderstorms: {stateHighwindHighest} with a value of {max(stateHighwindCount.values())}\")"
   ]
  },
  {
   "cell_type": "code",
   "execution_count": 26,
   "metadata": {},
   "outputs": [
    {
     "name": "stdout",
     "output_type": "stream",
     "text": [
      "[144.0, 139.0, 136.0, 129.0, 113.0, 113.0, 111.0, 109.0, 104.0, 104.0, 104.0, 104.0, 104.0, 104.0, 104.0, 104.0, 103.0, 101.0, 101.0, 101.0, 100.0, 98.0, 97.0, 97.0, 96.0, 96.0, 96.0, 96.0, 96.0, 96.0, 96.0, 96.0, 96.0, 96.0, 96.0, 96.0, 96.0, 96.0, 96.0, 95.0, 95.0, 95.0, 95.0, 95.0, 94.0, 94.0, 93.0, 93.0, 92.0, 91.0, 91.0, 91.0, 91.0, 91.0, 91.0, 90.0, 90.0, 90.0, 90.0, 90.0, 89.0, 89.0, 89.0, 89.0, 89.0, 88.0, 88.0, 87.0, 87.0, 87.0, 87.0, 87.0, 87.0, 87.0, 87.0, 87.0, 87.0, 87.0, 87.0, 87.0, 87.0, 87.0, 87.0, 87.0, 87.0, 87.0, 87.0, 87.0, 87.0, 87.0, 87.0, 87.0, 87.0, 87.0, 87.0, 87.0, 87.0, 87.0, 87.0, 87.0, 87.0, 87.0, 87.0, 87.0, 87.0, 87.0, 87.0, 87.0, 87.0, 87.0, 87.0, 87.0, 87.0, 87.0, 87.0, 87.0, 87.0, 86.0, 86.0, 86.0, 86.0, 86.0, 86.0, 86.0, 86.0, 85.0, 85.0, 85.0, 85.0, 84.0, 84.0, 84.0, 83.0, 83.0, 83.0, 83.0, 83.0, 83.0, 83.0, 83.0, 83.0, 83.0, 83.0, 83.0, 83.0, 83.0, 83.0, 83.0, 83.0, 83.0, 83.0, 83.0, 83.0, 83.0, 83.0, 83.0, 83.0, 83.0, 83.0, 83.0, 83.0, 83.0, 83.0, 83.0, 83.0, 83.0, 83.0, 83.0, 83.0, 83.0, 83.0, 83.0, 83.0, 83.0, 83.0, 83.0, 83.0, 83.0, 83.0, 83.0, 83.0, 83.0, 83.0, 83.0, 82.0, 82.0, 82.0, 82.0, 82.0, 82.0, 82.0, 82.0, 82.0, 81.0, 81.0, 81.0, 81.0, 81.0, 81.0, 81.0, 81.0, 81.0, 81.0, 81.0, 80.0, 80.0, 80.0, 80.0, 80.0, 80.0, 80.0, 80.0, 80.0, 80.0, 80.0, 80.0, 80.0, 80.0, 80.0, 80.0, 80.0, 80.0, 80.0, 80.0, 80.0, 80.0, 80.0]\n",
      "mean of magnitudes: 88.26872246696036\n",
      "median of magnitudes: 87.0\n",
      "standard of deviation of magnitude: 9.464659033193188\n"
     ]
    }
   ],
   "source": [
    "# What was the mean, median, and standard deviation of the magnitude?\n",
    "# magnitudes = np.array([x.magnitude for x in storms])\n",
    "magnitudes = [x.magnitude for x in storms]\n",
    "\n",
    "print(magnitudes)\n",
    "\n",
    "magnitude_mean = np.mean(magnitudes)\n",
    "magnitude_median = np.median(magnitudes)\n",
    "magnitude_std = np.std(magnitudes)\n",
    "\n",
    "print(f\"mean of magnitudes: {magnitude_mean}\")\n",
    "print(f\"median of magnitudes: {magnitude_median}\")\n",
    "print(f\"standard of deviation of magnitude: {magnitude_std}\")"
   ]
  }
 ],
 "metadata": {
  "kernelspec": {
   "display_name": "Python 3",
   "language": "python",
   "name": "python3"
  },
  "language_info": {
   "codemirror_mode": {
    "name": "ipython",
    "version": 3
   },
   "file_extension": ".py",
   "mimetype": "text/x-python",
   "name": "python",
   "nbconvert_exporter": "python",
   "pygments_lexer": "ipython3",
   "version": "3.12.0"
  }
 },
 "nbformat": 4,
 "nbformat_minor": 2
}
