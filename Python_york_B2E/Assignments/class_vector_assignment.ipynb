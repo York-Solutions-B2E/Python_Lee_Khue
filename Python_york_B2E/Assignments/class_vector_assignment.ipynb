{
 "cells": [
  {
   "cell_type": "code",
   "execution_count": 5,
   "metadata": {},
   "outputs": [],
   "source": [
    "# Do some research on python classes (I'd recommend starting here: https://www.geeksforgeeks.org/python-classes-and-objects/)\n",
    "# Vector Class\n",
    "# Create a class Vector that can be initialized with a list of numbers\n",
    "# Implement a method to print a user-friendly string representation of the vector\n",
    "# Overload the + operator to add two vectors of the same dimension (hint: Google 'dunder' methods!)\n",
    "# Implement a method to calculate the dot product of two vectors\n",
    "# Implement a method to calculate multiplication between a vector and a scalar (single number)"
   ]
  },
  {
   "cell_type": "code",
   "execution_count": 6,
   "metadata": {},
   "outputs": [],
   "source": [
    "# Create a class Vector that can be initialized with a list of numbers\n",
    "class Vector:\n",
    "    def __init__(self, values):\n",
    "        self.values = values\n",
    "\n",
    "    # Implement a method to print a user-friendly string representation of the vector\n",
    "    def __str__(self):\n",
    "        return f\"this the list: {self.values}\"\n",
    "\n",
    "    # Overload the + operator to add two vectors of the same dimension (hint: Google 'dunder' methods!)\n",
    "    def __add__(self, other):\n",
    "        newVector = []\n",
    "        for i in range(len(self.values)):\n",
    "            if len(self.values) == len(other.values):\n",
    "                newVector.append(self.values[i] + other.values[i])\n",
    "            else:\n",
    "                return f\"error: vectors do not have same length\"\n",
    "        return newVector\n",
    "    \n",
    "    # Implement a method to calculate the dot product of two vectors\n",
    "    def dot_product(self, other):\n",
    "        result = 0\n",
    "        for i in range(len(self.values)):\n",
    "            if len(self.values) == len(other.values):\n",
    "                result += (self.values[i] * other.values[i])\n",
    "        return result\n",
    "    \n",
    "    # Implement a method to calculate multiplication between a vector and a scalar (single number)\n",
    "    def vector_scalr(self, scalr):\n",
    "        scalarVector = []\n",
    "        for i in (self.values):\n",
    "            scalarVector.append(i * scalr)\n",
    "        return scalarVector"
   ]
  },
  {
   "cell_type": "code",
   "execution_count": 7,
   "metadata": {},
   "outputs": [],
   "source": [
    "listA = Vector([1,2,3,4,5,6,7,8,9])\n",
    "listB = Vector([3,6,8,9,12,45,67,56,70])\n",
    "scalr = 4"
   ]
  },
  {
   "cell_type": "code",
   "execution_count": 8,
   "metadata": {},
   "outputs": [
    {
     "name": "stdout",
     "output_type": "stream",
     "text": [
      "this the list: [1, 2, 3, 4, 5, 6, 7, 8, 9]\n",
      "this the list: [3, 6, 8, 9, 12, 45, 67, 56, 70]\n",
      "[4, 8, 11, 13, 17, 51, 74, 64, 79]\n",
      "1952\n",
      "[4, 8, 12, 16, 20, 24, 28, 32, 36]\n"
     ]
    }
   ],
   "source": [
    "sumVector = listA + listB\n",
    "\n",
    "print(str(listA))\n",
    "print(str(listB))\n",
    "\n",
    "print(sumVector)\n",
    "print(listA.dot_product(listB))\n",
    "\n",
    "print(listA.vector_scalr(scalr))\n",
    "\n",
    "\n"
   ]
  }
 ],
 "metadata": {
  "kernelspec": {
   "display_name": "Python 3",
   "language": "python",
   "name": "python3"
  },
  "language_info": {
   "codemirror_mode": {
    "name": "ipython",
    "version": 3
   },
   "file_extension": ".py",
   "mimetype": "text/x-python",
   "name": "python",
   "nbconvert_exporter": "python",
   "pygments_lexer": "ipython3",
   "version": "3.12.0"
  }
 },
 "nbformat": 4,
 "nbformat_minor": 2
}
