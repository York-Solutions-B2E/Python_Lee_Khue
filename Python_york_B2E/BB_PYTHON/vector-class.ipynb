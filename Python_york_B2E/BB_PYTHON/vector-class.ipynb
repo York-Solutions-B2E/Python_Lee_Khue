{
 "cells": [
  {
   "cell_type": "code",
   "execution_count": 4,
   "metadata": {},
   "outputs": [],
   "source": [
    "import random\n",
    "class Vector:\n",
    "    def __init__(self, values):\n",
    "        self.values = values\n",
    "        self.length = len(values)\n",
    "    def display(self):\n",
    "        print(str(self.values) + \" : \" + str(self.length))\n",
    "    def __add__(self, other):\n",
    "        if(self.length == other.length):\n",
    "            newList = []\n",
    "            for i in range(0,self.length,1):\n",
    "                newList.append(self.values[i]+other.values[i])\n",
    "            return Vector(newList)\n",
    "        else:\n",
    "            print(\"I cannot add two vectors with unequal lengths\")"
   ]
  },
  {
   "cell_type": "code",
   "execution_count": 5,
   "metadata": {},
   "outputs": [
    {
     "name": "stdout",
     "output_type": "stream",
     "text": [
      "[5, 7, 9] : 3\n"
     ]
    }
   ],
   "source": [
    "# Python creates an empty object ->\n",
    "# Python calls the __init__ method with that object\n",
    "myVector = Vector([1,2,3])\n",
    "secondVector = Vector([4,5,6])\n",
    "newVector = myVector+secondVector\n",
    "newVector.display()\n",
    "\n",
    "# I cannot add two vectors with unequal lengths"
   ]
  },
  {
   "cell_type": "markdown",
   "metadata": {},
   "source": [
    "1. Pyhton creates our object\n",
    "2. Python calls the __init__ method, passes in self automatically and then the parameters\n",
    "3. __init__ method is run"
   ]
  },
  {
   "cell_type": "code",
   "execution_count": 6,
   "metadata": {},
   "outputs": [
    {
     "name": "stdout",
     "output_type": "stream",
     "text": [
      "<__main__.User object at 0x1080cb200>\n",
      "Max\n",
      "Hello, my name is: Max\n",
      "None\n",
      "Luke\n"
     ]
    }
   ],
   "source": [
    "class User:\n",
    "    def __init__(self,name):\n",
    "        self.name = name\n",
    "        pass\n",
    "\n",
    "    def introduce(self):\n",
    "        print(\"Hello, my name is: \" + str(self.name))\n",
    "        pass\n",
    "\n",
    "    def change_name(self, newName): #change the self.name\n",
    "        self.name = newName\n",
    "\n",
    "myUser = User(\"Max\")\n",
    "print(myUser)\n",
    "print(myUser.name)\n",
    "print(myUser.introduce())\n",
    "myUser.change_name(\"Luke\")\n",
    "print(myUser.name)"
   ]
  },
  {
   "cell_type": "markdown",
   "metadata": {},
   "source": [
    "## Git Tutorial\n",
    "\n",
    "### https://github.com/York-Solutions-B2E\n",
    "\n",
    "### GitHub Setup\n",
    "1. Make new repository\n",
    "2. Add Remote (git remote add origin (link))\n",
    "\n",
    "### Git Setup\n",
    "\n",
    "1. Git Init\n",
    "2. Git Add\n",
    "3. Git Commit\n",
    "4. (Optional) Git Push\n",
    "5. Go back to step 2"
   ]
  }
 ],
 "metadata": {
  "kernelspec": {
   "display_name": "Python 3",
   "language": "python",
   "name": "python3"
  },
  "language_info": {
   "codemirror_mode": {
    "name": "ipython",
    "version": 3
   },
   "file_extension": ".py",
   "mimetype": "text/x-python",
   "name": "python",
   "nbconvert_exporter": "python",
   "pygments_lexer": "ipython3",
   "version": "3.12.0"
  }
 },
 "nbformat": 4,
 "nbformat_minor": 2
}
