{
 "cells": [
  {
   "cell_type": "code",
   "execution_count": 6,
   "metadata": {},
   "outputs": [],
   "source": [
    "import csv\n",
    "\n",
    "class Item: \n",
    "    all = []\n",
    "    pay_rate = 0.8 # The pay rate after 20% discount\n",
    "    def __init__(self, name: str, price: float, quantity=0):  #these are attributes\n",
    "        # run validations to the received arguments\n",
    "        assert price >=0,  f\"Price {price} is not greater than zero\"\n",
    "        assert quantity >=0, f\"Price {quantity} is not greater than zero\"\n",
    "\n",
    "        #assign to self object\n",
    "        self.name = name\n",
    "        self.price = price\n",
    "        self.quantity = quantity\n",
    "\n",
    "        # Actions to excute\n",
    "        Item.all.append(self)\n",
    "\n",
    "    \n",
    "    def calculate_total_price(self):\n",
    "        return self.price * self.quantity\n",
    "    \n",
    "    def apply_discount(self):\n",
    "        self.price = self.price * self.pay_rate\n",
    "\n",
    "    @classmethod\n",
    "    def instantiate_from_csv(cls):\n",
    "        with open('items.csv', 'r') as f:\n",
    "            reader = csv.DictReader(f)\n",
    "            items = list(reader)\n",
    "        \n",
    "        for item in items:\n",
    "            Item(\n",
    "                name=item.get('name'),\n",
    "                price=float(item.get('price')),\n",
    "                quantity=int(item.get('quantity')),\n",
    "            )\n",
    "\n",
    "    @staticmethod\n",
    "    def is_integer(num):\n",
    "        # We will count out the floats that point zero i.e: 5.0, 10.0\n",
    "        if isinstance(num, float):\n",
    "            # Count out the floats that are point zero\n",
    "            return num.is_integer()\n",
    "        elif isinstance(num, int):\n",
    "            return True\n",
    "        else:\n",
    "            return False\n",
    "\n",
    "    def __repr__(self):\n",
    "        return f\"Item('{self.__class__.__name__}', {self.price}, {self.quantity})\"\n",
    "\n",
    "# item1 = Item(\"Phone\", 100, 5)\n",
    "\n",
    "# item2 = Item(\"Laptop\", 1000, 3)\n",
    "\n",
    "# print(item1.calculate_total_price())\n",
    "# print(item2.calculate_total_price())\n",
    "\n",
    "# print(item1.name)\n",
    "# print(item2.name)\n",
    "\n",
    "# print(Item.pay_rate)\n",
    "# print(Item.__dict__)\n",
    "# print(item1.__dict__)\n",
    "\n",
    "# item1.apply_discount()\n",
    "# print(item1.price)\n",
    "\n",
    "# item2.pay_rate = 0.7\n",
    "# item2.apply_discount()\n",
    "# print(item2.price)"
   ]
  },
  {
   "cell_type": "code",
   "execution_count": 7,
   "metadata": {},
   "outputs": [],
   "source": [
    "# item1 = Item(\"Phone\", 100, 1)\n",
    "# item2 = Item(\"Laptop\", 1000, 3)\n",
    "# item3 = Item(\"Cable\", 10, 5)\n",
    "# item4 = Item(\"Mouse\", 50, 5)\n",
    "# item5 = Item(\"Keyboard\", 75, 5)\n",
    "\n",
    "# print(Item.all)\n",
    "\n",
    "# for instance in Item.all:\n",
    "#     print(instance.name)\n",
    "\n",
    "# Item.instantiate_from_csv()\n",
    "# print(Item.all)\n",
    "\n",
    "# print(Item.is_integer(7))"
   ]
  },
  {
   "cell_type": "markdown",
   "metadata": {},
   "source": [
    "### When to use methods and when to use statis methods?\n",
    "\n",
    "- use a class method when you need to do something with the class, but not unique with each instance\n",
    "- use static method when you need to do something that has a relationship with the class, but they are usually used to manipulate different structures of data to instantiate objects.\n",
    "- We generally use the class method to create factory methods. Factory methods return class objects ( similar to a constructor ) for different use cases.\n",
    "- We generally use static methods to create utility functions.\n",
    "\n",
    "\n",
    "### Differences\n",
    "\n",
    "- A class method takes cls as the first parameter while a static method needs no specific parameters.\n",
    "- A class method can access or modify the class state while a static method can’t access or modify it.\n",
    "- In general, static methods know nothing about the class state. They are utility-type methods that take some parameters and work upon those parameters. On the other hand class methods must have class as a parameter.\n",
    "- We use @classmethod decorator in python to create a class method and we use @staticmethod decorator to create a static method in python."
   ]
  },
  {
   "cell_type": "code",
   "execution_count": 12,
   "metadata": {},
   "outputs": [
    {
     "name": "stdout",
     "output_type": "stream",
     "text": [
      "2500\n",
      "[Item('Item', 100.0, 1), Item('Item', 1000.0, 3), Item('Item', 10.0, 5), Item('Item', 50.0, 5), Item('Item', 75.0, 5), Item('Phone', 500, 5), Item('Phone', 700, 5), Item('Phone', 500, 5)]\n",
      "[Item('Item', 100.0, 1), Item('Item', 1000.0, 3), Item('Item', 10.0, 5), Item('Item', 50.0, 5), Item('Item', 75.0, 5), Item('Phone', 500, 5), Item('Phone', 700, 5), Item('Phone', 500, 5)]\n"
     ]
    }
   ],
   "source": [
    "class Phone(Item):\n",
    "    def __init__(self, name: str, price: float, quantity=0, broken_phones=0):  #these are attributes\n",
    "        # Call to super function to have access to all attributes / methods\n",
    "        super().__init__(\n",
    "            name, price, quantity\n",
    "        )\n",
    "\n",
    "        # run validations to the received arguments\n",
    "        assert broken_phones >=0, f\"Broken Phones {broken_phones} is not greater than zero\"\n",
    "\n",
    "        #assign to self object\n",
    "        self.broken_phones = broken_phones\n",
    "\n",
    "phone1 = Phone(\"jscPhonev10\", 500, 5, 1)\n",
    "print(phone1.calculate_total_price())\n",
    "\n",
    "print(Item.all) # will better if you want to get the whole picture (both parent and childs)\n",
    "print(Phone.all)\n",
    "\n",
    "phone2 = Phone(\"jscPhonev20\", 700, 5, 1)\n"
   ]
  },
  {
   "cell_type": "markdown",
   "metadata": {},
   "source": [
    "## Encapsulation\n",
    "#### Encapsulation is the method of keeping all the state, variables, and methods private unless declared to be public."
   ]
  },
  {
   "cell_type": "markdown",
   "metadata": {},
   "source": [
    "```\n",
    "@property\n",
    "# Property Decorator = Read-Only Attribute\n",
    "def name(self):\n",
    "    return self.__name\n",
    "\n",
    "@name.setter\n",
    "def name(self, value):\n",
    "    if len(value) > 10:\n",
    "        raise Exception(\"The name is too long!\")\n",
    "    else:\n",
    "        self.__name = value\n",
    "```"
   ]
  },
  {
   "cell_type": "markdown",
   "metadata": {},
   "source": [
    "## Abstraction\n",
    "#### Abstraction is the concept of hiding all the implementation of your class away from anything outside of the class."
   ]
  },
  {
   "cell_type": "markdown",
   "metadata": {},
   "source": [
    "```\n",
    "item1 = Item(\"MyItem\", 750, 6)\n",
    "\n",
    "item1.send_email()\n",
    "\n",
    "# These are static methods\n",
    "\n",
    "# private method to prevent sharing uneccessary info"
   ]
  },
  {
   "cell_type": "markdown",
   "metadata": {},
   "source": [
    "## Inheritance\n",
    "#### Inheritance is the mechanism for creating a child class that can inherit behavior and properties from a parent(derived) class."
   ]
  },
  {
   "cell_type": "markdown",
   "metadata": {},
   "source": [
    "```\n",
    "from item import Item \n",
    "\n",
    "class Phone(Item):\n",
    "    def __init__(self, name: str, price: float, quantity=0, broken_phones=0):  #these are attributes\n",
    "        # Call to super function to have access to all attributes / methods\n",
    "        super().__init__(\n",
    "            name, price, quantity\n",
    "        )\n",
    "\n",
    "        # run validations to the received arguments\n",
    "        assert broken_phones >=0, f\"Broken Phones {broken_phones} is not greater than zero\"\n",
    "\n",
    "        #assign to self object\n",
    "        self.broken_phones = broken_phones\n",
    "```"
   ]
  },
  {
   "cell_type": "markdown",
   "metadata": {},
   "source": [
    "## Polymorphism\n",
    "#### Polymorphism is a way of interfacing with objects and receiving different forms or results."
   ]
  },
  {
   "cell_type": "markdown",
   "metadata": {},
   "source": [
    "```\n",
    "pay_rate = 0.8 # The pay rate after 20% discount\n",
    "\n",
    "def apply_discount(self):\n",
    "        self.price = self.price * self.pay_rate\n",
    "```"
   ]
  },
  {
   "cell_type": "markdown",
   "metadata": {},
   "source": []
  }
 ],
 "metadata": {
  "kernelspec": {
   "display_name": "Python 3",
   "language": "python",
   "name": "python3"
  },
  "language_info": {
   "codemirror_mode": {
    "name": "ipython",
    "version": 3
   },
   "file_extension": ".py",
   "mimetype": "text/x-python",
   "name": "python",
   "nbconvert_exporter": "python",
   "pygments_lexer": "ipython3",
   "version": "3.12.0"
  }
 },
 "nbformat": 4,
 "nbformat_minor": 2
}
