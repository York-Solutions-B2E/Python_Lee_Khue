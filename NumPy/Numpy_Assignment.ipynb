{
 "cells": [
  {
   "cell_type": "code",
   "execution_count": 1,
   "metadata": {},
   "outputs": [],
   "source": [
    "# 1d Array\n",
    "# Create a 1-dimensional NumPy array with elements [1, 2, 3, 4, 5, 6, 7, 8, 9, 10].\n",
    "# Calculate the sum and average of the array elements.\n",
    "# Multiply the array by a scalar value of 3.\n",
    "# Slice the array to select elements from the 3rd to the 7th position.\n",
    "# Compute the sum and average of the sliced array\n",
    "\n",
    "# Multi-dimensional array\n",
    "# Create a 3x3 matrix with the following rows in order: {3,4,5} {6,7,8} {9,1,2}\n",
    "# Print the element in the second row, third column.\n",
    "# Print the second row\n",
    "# Print the second column\n",
    "# Compute the transpose of the matrix\n",
    "\n",
    "# Concatenation\n",
    "# Create two 1-d arrays: [5,1,4,2] and [6,10,11,7]\n",
    "# Concatenate the two arrays\n",
    "# Sort the new array from lowest to highest\n",
    "# Split the result from the previous step into two equal sized arrays\n",
    "\n",
    "# Mathematical functions\n",
    "# Create an array with values from 0 to 4*pi in increments of pi/2 (pi refers to the mathematical constant  π)\n",
    "# Compute an array that applies the mathematical sin function to the original array\n",
    "# Do the same for the following mathematical functions: cos, log, exp\n",
    "# Compute the mean, median, and standard deviation of each resultant array\n",
    "\n",
    "# Boolean Indexing and Filtering\n",
    "# Create a 1-d array with all multiples of 5 from 15 to 80, and also include 12\n",
    "# Create a boolean array that identifies elements which are greater than 25\n",
    "# Use that boolean array to filter out elements greater than 25 from the original array."
   ]
  },
  {
   "cell_type": "markdown",
   "metadata": {},
   "source": [
    "## 1d Array"
   ]
  },
  {
   "cell_type": "code",
   "execution_count": 2,
   "metadata": {},
   "outputs": [],
   "source": [
    "import numpy as np\n",
    "import math"
   ]
  },
  {
   "cell_type": "code",
   "execution_count": 3,
   "metadata": {},
   "outputs": [
    {
     "name": "stdout",
     "output_type": "stream",
     "text": [
      "[ 1  2  3  4  5  6  7  8  9 10]\n"
     ]
    }
   ],
   "source": [
    "# Create a 1-dimensional NumPy array with elements [1, 2, 3, 4, 5, 6, 7, 8, 9, 10].\n",
    "array1 = np.array([1,2,3,4,5,6,7,8,9,10])\n",
    "print(array1)\n"
   ]
  },
  {
   "cell_type": "code",
   "execution_count": 4,
   "metadata": {},
   "outputs": [
    {
     "name": "stdout",
     "output_type": "stream",
     "text": [
      "55\n",
      "5.5\n"
     ]
    }
   ],
   "source": [
    "# Calculate the sum and average of the array elements.\n",
    "print(np.sum(array1))\n",
    "print(np.mean(array1))"
   ]
  },
  {
   "cell_type": "code",
   "execution_count": 5,
   "metadata": {},
   "outputs": [
    {
     "name": "stdout",
     "output_type": "stream",
     "text": [
      "[ 3  6  9 12 15 18 21 24 27 30]\n"
     ]
    }
   ],
   "source": [
    "# Multiply the array by a scalar value of 3.\n",
    "print(array1 * 3)"
   ]
  },
  {
   "cell_type": "code",
   "execution_count": 6,
   "metadata": {},
   "outputs": [
    {
     "name": "stdout",
     "output_type": "stream",
     "text": [
      "[3 4 5 6 7]\n"
     ]
    }
   ],
   "source": [
    "# Slice the array to select elements from the 3rd to the 7th position.\n",
    "print(array1[2:7])"
   ]
  },
  {
   "cell_type": "code",
   "execution_count": 7,
   "metadata": {},
   "outputs": [
    {
     "name": "stdout",
     "output_type": "stream",
     "text": [
      "25\n"
     ]
    }
   ],
   "source": [
    "# Compute the sum and average of the sliced array\n",
    "print(np.sum(array1[2:7]))"
   ]
  },
  {
   "cell_type": "markdown",
   "metadata": {},
   "source": [
    "## Multi-dimensional array\n"
   ]
  },
  {
   "cell_type": "code",
   "execution_count": 8,
   "metadata": {},
   "outputs": [
    {
     "name": "stdout",
     "output_type": "stream",
     "text": [
      "[[3 4 5]\n",
      " [6 7 8]\n",
      " [9 1 2]]\n"
     ]
    }
   ],
   "source": [
    "# Create a 3x3 matrix with the following rows in order: {3,4,5} {6,7,8} {9,1,2}\n",
    "array2 = np.array([[3,4,5], [6,7,8], [9,1,2]])\n",
    "print(array2)"
   ]
  },
  {
   "cell_type": "code",
   "execution_count": 9,
   "metadata": {},
   "outputs": [
    {
     "name": "stdout",
     "output_type": "stream",
     "text": [
      "8\n"
     ]
    }
   ],
   "source": [
    "# Print the element in the second row, third column.\n",
    "print(array2[1,2])"
   ]
  },
  {
   "cell_type": "code",
   "execution_count": 10,
   "metadata": {},
   "outputs": [
    {
     "name": "stdout",
     "output_type": "stream",
     "text": [
      "[6 7 8]\n"
     ]
    }
   ],
   "source": [
    "# Print the second row\n",
    "print(array2[1,:])"
   ]
  },
  {
   "cell_type": "code",
   "execution_count": 11,
   "metadata": {},
   "outputs": [
    {
     "name": "stdout",
     "output_type": "stream",
     "text": [
      "[4 7 1]\n"
     ]
    }
   ],
   "source": [
    "# Print the second column\n",
    "print(array2[:,1])"
   ]
  },
  {
   "cell_type": "code",
   "execution_count": 12,
   "metadata": {},
   "outputs": [
    {
     "name": "stdout",
     "output_type": "stream",
     "text": [
      "[[3 6 9]\n",
      " [4 7 1]\n",
      " [5 8 2]]\n"
     ]
    }
   ],
   "source": [
    "# Compute the transpose of the matrix\n",
    "print(np.transpose(array2))"
   ]
  },
  {
   "cell_type": "markdown",
   "metadata": {},
   "source": [
    "## Concatenation"
   ]
  },
  {
   "cell_type": "code",
   "execution_count": 13,
   "metadata": {},
   "outputs": [
    {
     "name": "stdout",
     "output_type": "stream",
     "text": [
      "[5 1 4 2]\n",
      "[ 6 10 11  7]\n"
     ]
    }
   ],
   "source": [
    "# Create two 1-d arrays: [5,1,4,2] and [6,10,11,7]\n",
    "array3 = np.array([5,1,4,2])\n",
    "array4 = np.array([6,10,11,7])\n",
    "print(array3)\n",
    "print(array4)"
   ]
  },
  {
   "cell_type": "code",
   "execution_count": 14,
   "metadata": {},
   "outputs": [
    {
     "name": "stdout",
     "output_type": "stream",
     "text": [
      "[ 5  1  4  2  6 10 11  7]\n"
     ]
    }
   ],
   "source": [
    "# Concatenate the two arrays\n",
    "joinArray = np.concatenate((array3, array4))\n",
    "print(joinArray)"
   ]
  },
  {
   "cell_type": "code",
   "execution_count": 15,
   "metadata": {},
   "outputs": [
    {
     "name": "stdout",
     "output_type": "stream",
     "text": [
      "[ 1  2  4  5  6  7 10 11]\n"
     ]
    }
   ],
   "source": [
    "# Sort the new array from lowest to highest\n",
    "print(np.sort(joinArray))"
   ]
  },
  {
   "cell_type": "code",
   "execution_count": 16,
   "metadata": {},
   "outputs": [
    {
     "name": "stdout",
     "output_type": "stream",
     "text": [
      "[array([5, 1, 4, 2]), array([ 6, 10, 11,  7])]\n"
     ]
    }
   ],
   "source": [
    "# Split the result from the previous step into two equal sized arrays\n",
    "print(np.array_split(joinArray, 2))"
   ]
  },
  {
   "cell_type": "markdown",
   "metadata": {},
   "source": [
    "## Mathematical functions\n"
   ]
  },
  {
   "cell_type": "code",
   "execution_count": 17,
   "metadata": {},
   "outputs": [
    {
     "name": "stdout",
     "output_type": "stream",
     "text": [
      "[0.         1.57079633 3.14159265]\n"
     ]
    }
   ],
   "source": [
    "# Create an array with values from 0 to 4*pi in increments of pi/2 (pi refers to the mathematical constant  π)\n",
    "piArray = np.arange(0,4, (math.pi/2))\n",
    "print(piArray)"
   ]
  },
  {
   "cell_type": "code",
   "execution_count": 18,
   "metadata": {},
   "outputs": [
    {
     "name": "stdout",
     "output_type": "stream",
     "text": [
      "[ 0.84147098  0.90929743  0.14112001 -0.7568025  -0.95892427 -0.2794155\n",
      "  0.6569866   0.98935825]\n"
     ]
    }
   ],
   "source": [
    "# Compute an array that applies the mathematical sin function to the original array\n",
    "arrayA= ([1,2,3,4,5,6,7,8])\n",
    "print(np.sin(arrayA))"
   ]
  },
  {
   "cell_type": "code",
   "execution_count": 19,
   "metadata": {},
   "outputs": [
    {
     "name": "stdout",
     "output_type": "stream",
     "text": [
      "[ 0.54030231 -0.41614684 -0.9899925  -0.65364362  0.28366219  0.96017029\n",
      "  0.75390225 -0.14550003]\n",
      "[0.         0.69314718 1.09861229 1.38629436 1.60943791 1.79175947\n",
      " 1.94591015 2.07944154]\n",
      "[2.71828183e+00 7.38905610e+00 2.00855369e+01 5.45981500e+01\n",
      " 1.48413159e+02 4.03428793e+02 1.09663316e+03 2.98095799e+03]\n"
     ]
    }
   ],
   "source": [
    "# Do the same for the following mathematical functions: cos, log, exp\n",
    "print(np.cos(arrayA))\n",
    "print(np.log(arrayA))\n",
    "print(np.exp(arrayA))"
   ]
  },
  {
   "cell_type": "code",
   "execution_count": 20,
   "metadata": {},
   "outputs": [
    {
     "name": "stdout",
     "output_type": "stream",
     "text": [
      "[ 0.84147098  0.90929743  0.14112001 -0.7568025  -0.95892427 -0.2794155\n",
      "  0.6569866   0.98935825]\n",
      "[ 0.54030231 -0.41614684 -0.9899925  -0.65364362  0.28366219  0.96017029\n",
      "  0.75390225 -0.14550003]\n",
      "[0.         0.69314718 1.09861229 1.38629436 1.60943791 1.79175947\n",
      " 1.94591015 2.07944154]\n",
      "[2.71828183e+00 7.38905610e+00 2.00855369e+01 5.45981500e+01\n",
      " 1.48413159e+02 4.03428793e+02 1.09663316e+03 2.98095799e+03]\n",
      "sin-mean: 0.19288637460820296\n",
      "sin-median: 0.39905330338932815\n",
      "sin-std: 0.7278383053981057\n",
      "cos-mean: 0.04159425556315294\n",
      "cos-median: 0.06908107582730638\n",
      "cos-std: 0.6567466525151575\n",
      "log-mean: 1.3255753628431561\n",
      "log-median: 1.4978661367769954\n",
      "log-std: 0.6579655683239042\n",
      "exp-mean: 589.2780153686525\n",
      "exp-median: 101.50565456786042\n",
      "exp-std: 968.1783023221099\n"
     ]
    }
   ],
   "source": [
    "# Compute the mean, median, and standard deviation of each resultant array\n",
    "sinArray = np.sin(arrayA)\n",
    "print(sinArray)\n",
    "cosArray= np.cos(arrayA)\n",
    "print(cosArray)\n",
    "logArray= np.log(arrayA)\n",
    "print(logArray)\n",
    "expArray = np.exp(arrayA)\n",
    "print(expArray)\n",
    "print(\"sin-mean:\", np.mean(sinArray))\n",
    "print(\"sin-median:\", np.median(sinArray))\n",
    "print(\"sin-std:\", np.std(sinArray))\n",
    "\n",
    "print(\"cos-mean:\", np.mean(cosArray))\n",
    "print(\"cos-median:\", np.median(cosArray))\n",
    "print(\"cos-std:\", np.std(cosArray))\n",
    "\n",
    "print(\"log-mean:\", np.mean(logArray))\n",
    "print(\"log-median:\", np.median(logArray))\n",
    "print(\"log-std:\", np.std(logArray))\n",
    "\n",
    "print(\"exp-mean:\", np.mean(expArray))\n",
    "print(\"exp-median:\", np.median(expArray)) \n",
    "print(\"exp-std:\", np.std(expArray))"
   ]
  },
  {
   "cell_type": "markdown",
   "metadata": {},
   "source": [
    "## Boolean Indexing and Filtering\n"
   ]
  },
  {
   "cell_type": "code",
   "execution_count": 24,
   "metadata": {},
   "outputs": [
    {
     "name": "stdout",
     "output_type": "stream",
     "text": [
      "[15 20 25 30 35 40 45 50 55 60 65 70 75 80]\n",
      "[12 15 20 25 30 35 40 45 50 55 60 65 70 75 80]\n"
     ]
    }
   ],
   "source": [
    "#Create a 1-d array with all multiples of 5 from 15 to 80, and also include 12\n",
    "arrayB = np.arange(15, 81, 5)\n",
    "arrayC= np.sort(np.append(arrayB, 12))\n",
    "print(arrayB)\n",
    "print(arrayC)\n"
   ]
  },
  {
   "cell_type": "code",
   "execution_count": 42,
   "metadata": {},
   "outputs": [
    {
     "name": "stdout",
     "output_type": "stream",
     "text": [
      "[False False False False  True  True  True  True  True  True  True  True\n",
      "  True  True  True]\n"
     ]
    }
   ],
   "source": [
    "# Create a boolean array that identifies elements which are greater than 25\n",
    "arrayD = arrayC > 25\n",
    "print(arrayD)"
   ]
  },
  {
   "cell_type": "code",
   "execution_count": 23,
   "metadata": {},
   "outputs": [],
   "source": [
    "# Use that boolean array to filter out elements greater than 25 from the original array."
   ]
  },
  {
   "cell_type": "code",
   "execution_count": 43,
   "metadata": {},
   "outputs": [
    {
     "name": "stdout",
     "output_type": "stream",
     "text": [
      "[12 15 20 25]\n"
     ]
    }
   ],
   "source": [
    "arrayG = np.delete(arrayC, arrayD)\n",
    "print(arrayG)"
   ]
  }
 ],
 "metadata": {
  "kernelspec": {
   "display_name": "Python 3",
   "language": "python",
   "name": "python3"
  },
  "language_info": {
   "codemirror_mode": {
    "name": "ipython",
    "version": 3
   },
   "file_extension": ".py",
   "mimetype": "text/x-python",
   "name": "python",
   "nbconvert_exporter": "python",
   "pygments_lexer": "ipython3",
   "version": "3.12.0"
  }
 },
 "nbformat": 4,
 "nbformat_minor": 2
}
